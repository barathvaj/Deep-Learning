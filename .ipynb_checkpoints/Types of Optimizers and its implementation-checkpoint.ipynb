{
 "cells": [
  {
   "cell_type": "markdown",
   "metadata": {
    "collapsed": true
   },
   "source": [
    "## In this exercise, we will use the layer model which we built last week. Here we will explore different optimizer functions . In the previous section, we implemented the SGD with momentum. It does this by adding a fraction of the update vector of the past time step to the current update vector which accelerates the parameter updates for faster convergence "
   ]
  },
  {
   "cell_type": "markdown",
   "metadata": {},
   "source": [
    "### Nesterov momentum\n",
    "\n",
    "The momentum is about the rolling the ball from hill following the slope, Nesterov momentum is little smart which calculates the gradient based on the future state of parameter instead of current state"
   ]
  },
  {
   "cell_type": "code",
   "execution_count": 2,
   "metadata": {},
   "outputs": [],
   "source": [
    "class Nesterov:\n",
    "    def __init__(self, learning_rate = 0.01, momentum=0.9):\n",
    "        self.learning_rate = learning_rate \n",
    "        self.momentum = momentum\n",
    "        self.w_updated = None\n",
    "    \n",
    "    def update(self, w, grad):\n",
    "        #calculate the gradient of future\n",
    "        \n",
    "        approx_future_grad =  self.momentum\n",
    "        \n",
    "        if self.w_updated is None:\n",
    "            self.w_updated = np.zeros(np.shape(w))        \n",
    "        \n",
    "        #use the momentum if any\n",
    "        self.w_updated = (self.momentum * self.w_updated) + (1-self.momentum) * grad        \n",
    "        return w - (self.learning_rate * grad) "
   ]
  },
  {
   "cell_type": "code",
   "execution_count": 3,
   "metadata": {
    "collapsed": true
   },
   "outputs": [],
   "source": [
    "#to be continued"
   ]
  },
  {
   "cell_type": "code",
   "execution_count": null,
   "metadata": {
    "collapsed": true
   },
   "outputs": [],
   "source": []
  }
 ],
 "metadata": {
  "kernelspec": {
   "display_name": "Python 3",
   "language": "python",
   "name": "python3"
  },
  "language_info": {
   "codemirror_mode": {
    "name": "ipython",
    "version": 3
   },
   "file_extension": ".py",
   "mimetype": "text/x-python",
   "name": "python",
   "nbconvert_exporter": "python",
   "pygments_lexer": "ipython3",
   "version": "3.6.1"
  }
 },
 "nbformat": 4,
 "nbformat_minor": 2
}
