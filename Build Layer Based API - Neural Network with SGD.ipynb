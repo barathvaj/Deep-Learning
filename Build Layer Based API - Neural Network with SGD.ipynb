{
 "cells": [
  {
   "cell_type": "markdown",
   "metadata": {},
   "source": [
    "### On ML from scratch exercise, we see how to build a sequential and layer model. Here our focus is to refactor it to better extendability with clean seperation of concern which  makes it very easy to write simple networks that consist of layers layered on top of each other . \n",
    "\n",
    "#### Later after building the layer and sequential model , let discuss and implement the SGD and later in course will discuss about various optimizers"
   ]
  },
  {
   "cell_type": "code",
   "execution_count": 38,
   "metadata": {
    "collapsed": true
   },
   "outputs": [],
   "source": [
    "import numpy as np\n",
    "import math\n",
    "import copy\n",
    "import ipdb as pdb"
   ]
  },
  {
   "cell_type": "code",
   "execution_count": 39,
   "metadata": {
    "collapsed": true
   },
   "outputs": [],
   "source": [
    "import progressbar\n",
    "from terminaltables import AsciiTable\n",
    "\n",
    "class Sequential:\n",
    "    \"\"\" Accepts \n",
    "    layers - the set of layer layered on top of each other\n",
    "    optimizer - A function which gives the estimate of the gradient which need to be updated to weights to minimize cost functions\n",
    "    loss - the function which evalutes the performance of the model. How the predicted outcome is different from actual outcome. \n",
    "           in short we can call this as error rate\"\"\"\n",
    "    def __init__(self, layers, optimizer, loss, nfeatures):\n",
    "        self.layers, self.optimizer, self.loss = layers, optimizer, loss        \n",
    "        self.progressbar = progressbar.ProgressBar()\n",
    "            \n",
    "        for i in range(0,len(self.layers)):              \n",
    "            self.layers[i].set_inputshape(nfeatures if i == 0 else int(self.layers[i-1].outputshape()))\n",
    "            \n",
    "            #if setup method is there then call setup \n",
    "            if hasattr(self.layers[i], 'setup'):\n",
    "                self.layers[i].setup(optimizer = self.optimizer,loss=self.loss)            \n",
    "\n",
    "    \n",
    "    \"\"\" Iterate through number of epoch on each batch, forward propagate and calculate the loss_gradient from output\n",
    "        and propagates the gradient backwards  \"\"\" \n",
    "    def fit(self, X, y, Xvalid = None, yvalid=None, epochs= 100, batchsize= 64):\n",
    "        \n",
    "        for index in self.progressbar(range(epochs)):\n",
    "            batchloss = []\n",
    "            loss,auc,predictions=None, None, None\n",
    "            for X_batch, y_batch in batchnext(X,y,batchsize = batchsize):\n",
    "                loss,auc,predictions = self._train(X_batch,y_batch)\n",
    "                batchloss.append(loss)\n",
    "            #print(f'Epoch# {index} Training Loss:{loss}  Training Accuracy:{auc}')\n",
    "                \n",
    "                \n",
    "            if (index % 1000 == 0 and Xvalid is not None and yvalid is not None):\n",
    "                mloss = np.mean(batchloss)\n",
    "                val_loss, val_auc,_ = self.predict(Xvalid,yvalid)\n",
    "                print(f'Epoch# {index} Training Loss:{loss} Validation Loss: {val_loss} Training Accuracy:{auc} Validation Accuracy:{val_auc}') \n",
    "            elif(index % 1000 == 0):\n",
    "                print(f'Epoch# {index} Training Loss:{loss}  Training Accuracy:{auc}')\n",
    "                print(predictions)\n",
    "                \n",
    "        \n",
    "    \"\"\"Predicting outcome mainly for validation or test set\"\"\"\n",
    "    def predict(self, X, y):\n",
    "        y_pred = self._forward(X)  \n",
    "        loss = self.loss(y, y_pred)\n",
    "        accuracy = self.loss.auc(y, y_pred)\n",
    "        return loss, accuracy,y_pred\n",
    "    \n",
    "    \"\"\" Training on single batch with gradient updates\"\"\"\n",
    "    def _train(self, X, y):        \n",
    "        y_pred = self._forward(X)        \n",
    "        loss = self.loss(y, y_pred, self._layerweights())\n",
    "        accuracy = self.loss.auc(y,y_pred)\n",
    "        grad = self.loss.gradient(y, y_pred)        \n",
    "        self._backward(grad)\n",
    "        #self._step()\n",
    "        return loss, accuracy,y_pred        \n",
    "        \n",
    "    \n",
    "    #calculate the output by propagating forward\n",
    "    def _forward(self, X, training=True):\n",
    "        layerout= X\n",
    "        for layer in self.layers:\n",
    "            #if(hasattr(layer, 'w')):\n",
    "            #    print(layer.w)\n",
    "            layerout = layer.forward(layerout,training)     \n",
    "            \n",
    "        return layerout\n",
    "    \n",
    "    def _layerweights(self):\n",
    "        layerweigths = []\n",
    "        for layer in self.layers:\n",
    "            if hasattr(layer, 'w'):\n",
    "                layerweigths.append(layer.w)\n",
    "        return layerweigths \n",
    "        \n",
    "    \n",
    "    #Propagate the gradient backwards and update the weights in each layer\n",
    "    def _backward(self, grad):\n",
    "        for layer in reversed(self.layers):\n",
    "            grad= layer.backward(grad)\n",
    "            \n",
    "        return grad\n",
    "    \n",
    "    def _step(self):\n",
    "        for layer in reversed(self.layers):\n",
    "            if hasattr(layer, 'step'):\n",
    "                layer.step()\n",
    "            \n",
    "       \n",
    "            \n",
    "    def summary(self , title = \"Model Summary\"):\n",
    "        print (AsciiTable([[title]]).table)\n",
    "        print (\"Input Shape: %s\" % str(self.layers[0].inputshape))\n",
    "        \n",
    "        table_data = [[\"Layer Name\", \"Input Shape\", \"Output Shape\" , \"Shape\"]]\n",
    "        for layer in self.layers:\n",
    "            table_data.append([layer.name, layer.inputshape, layer.outputshape(), layer.shape])\n",
    "            \n",
    "        print (AsciiTable(table_data).table)    \n",
    "        "
   ]
  },
  {
   "cell_type": "markdown",
   "metadata": {},
   "source": [
    "### A simple iterator which yields input as batch based on its batchsize"
   ]
  },
  {
   "cell_type": "code",
   "execution_count": 40,
   "metadata": {
    "collapsed": true
   },
   "outputs": [],
   "source": [
    "def batchnext(X,y,batchsize =64):\n",
    "    nSize= X.shape[0]\n",
    "    for b in np.arange(0, nSize, batchsize):\n",
    "        start, end = b , min(nSize, b+batchsize)\n",
    "        yield X[start:end], y[start:end]"
   ]
  },
  {
   "cell_type": "code",
   "execution_count": 41,
   "metadata": {
    "collapsed": true
   },
   "outputs": [],
   "source": [
    "def accuracy_score(y_true, y_pred):\n",
    "    \"\"\" Compare y_true to y_pred and return the accuracy \"\"\"\n",
    "    accuracy = np.sum(y_true == y_pred, axis=0) / len(y_true)\n",
    "    return accuracy"
   ]
  },
  {
   "cell_type": "markdown",
   "metadata": {},
   "source": [
    "## Abstract/base Layer Class"
   ]
  },
  {
   "cell_type": "code",
   "execution_count": 42,
   "metadata": {
    "collapsed": true
   },
   "outputs": [],
   "source": [
    "class Layer(object):\n",
    "    def __init__(self):\n",
    "        pass\n",
    "    \n",
    "    @property\n",
    "    def name(self):\n",
    "        \"\"\" returns the name of the layer and mainly for displaying model summary.\"\"\"\n",
    "        return self.__class__.__name__\n",
    "    \n",
    "    @property\n",
    "    def shape(self):\n",
    "        raise NotImplementedError()       \n",
    "    \n",
    "    def outputshape(self):\n",
    "        raise NotImplementedError()   \n",
    "    \n",
    "    def set_inputshape(self, shape):      \n",
    "        self.inputshape= shape\n",
    "        \n",
    "        \n",
    "    def forward(self, X, training = True):\n",
    "        raise NotImplementedError()\n",
    "    \n",
    "    def backward(self, grad):\n",
    "        raise NotImplementedError()  \n",
    "    "
   ]
  },
  {
   "cell_type": "markdown",
   "metadata": {},
   "source": [
    "## Simple Linear Layer - Extending the base Layer class"
   ]
  },
  {
   "cell_type": "code",
   "execution_count": 43,
   "metadata": {
    "collapsed": true
   },
   "outputs": [],
   "source": [
    "class Dense(Layer):\n",
    "    def __init__(self,nunits): \n",
    "        self.nunits = nunits\n",
    "        self.input = None\n",
    "        self.w, self.b = None, None\n",
    "        \n",
    "    def setup(self, optimizer,loss):\n",
    "        self.loss = loss\n",
    "        rangelimit = 1 / math.sqrt(self.inputshape)       \n",
    "        self.w = np.random.uniform(-rangelimit,rangelimit,self.shape)  \n",
    "        self.b = (rangelimit * np.random.random((1,self.nunits))) \n",
    "        self.w_opt = copy.copy(optimizer)\n",
    "        self.b_opt = copy.copy(optimizer)       \n",
    "        \n",
    "    \n",
    "    @property\n",
    "    def shape(self):\n",
    "        return (self.inputshape ,self.outputshape())\n",
    "    \n",
    " \n",
    "    def outputshape(self):\n",
    "        return self.nunits\n",
    "    \n",
    "    def forward(self, X, training = True):        \n",
    "        self.input = X\n",
    "        return X.dot(self.w) + self.b\n",
    "        \n",
    "    def backward(self, grad):\n",
    "        W = self.w\n",
    "        \n",
    "        self.dw = np.dot(self.input.T,grad)\n",
    "        self.db = np.sum(grad, axis =0, keepdims=True) \n",
    "               \n",
    "        grad = grad.dot(W.T)\n",
    "        \n",
    "        self.w =self.w_opt.update(self.w, self.dw)\n",
    "        self.b = self.b_opt.update(self.b, self.db) \n",
    "        \n",
    "        if hasattr(self.loss, 'reg'):\n",
    "            self.dw += self.loss.reg *  self.w   \n",
    "            \n",
    "        return grad"
   ]
  },
  {
   "cell_type": "markdown",
   "metadata": {},
   "source": [
    "## Activation Class - Simple Extension over Layer class"
   ]
  },
  {
   "cell_type": "code",
   "execution_count": 44,
   "metadata": {
    "collapsed": true
   },
   "outputs": [],
   "source": [
    "class Activation(Layer):\n",
    "    def __init__(self, activationfn):\n",
    "        self.activationfn = activationfn()\n",
    "       \n",
    "    @property\n",
    "    def shape(self):\n",
    "        return (self.inputshape ,self.outputshape())\n",
    "    \n",
    "    @property\n",
    "    def name(self):\n",
    "        \"\"\" returns the name of the layer and mainly for displaying model summary.\"\"\"\n",
    "        return self.activationfn.__class__.__name__\n",
    "    \n",
    "    \n",
    "    def forward(self, X, training = True):\n",
    "        \n",
    "        self.input = X\n",
    "        self.h = self.activationfn(X)\n",
    "        return self.h\n",
    "        \n",
    "    \n",
    "    def backward(self, grad):        \n",
    "        activationgrad = self.activationfn.gradient(self.h)         \n",
    "        if(activationgrad is None): return grad            \n",
    "        return grad *   activationgrad   \n",
    "    \n",
    "   \n",
    "    def outputshape(self):\n",
    "        return self.inputshape    "
   ]
  },
  {
   "cell_type": "code",
   "execution_count": 58,
   "metadata": {
    "collapsed": true
   },
   "outputs": [],
   "source": [
    "#List of Activation functions\n",
    "\n",
    "class sigmoid:\n",
    "    def __call__(self,x):\n",
    "        return 1/(1+np.exp(-x)) \n",
    "      \n",
    "    \n",
    "    def gradient(self,x):\n",
    "        return (x * (1-x))\n",
    "    \n",
    "\n",
    "class relu:\n",
    "    def __call__(self,x):\n",
    "        return x * (x >0)\n",
    "        #return np.where(x>=0, x , 0)\n",
    "    \n",
    "    def gradient(self,x):\n",
    "        return 1. * (x >0)\n",
    "        #return np.where(x>=0, 1 , 0)\n",
    "    \n",
    "    \n",
    "class softmax:\n",
    "    def __call__(self,x):\n",
    "        expo = np.exp(x)\n",
    "        result = expo/np.sum(expo,axis=1, keepdims=True)  \n",
    "        return result\n",
    "    \n",
    "    def gradient(self,x):\n",
    "        return None"
   ]
  },
  {
   "cell_type": "markdown",
   "metadata": {},
   "source": [
    "## A abstract loss class with helps in evaluating the loss value between the predicted and actual"
   ]
  },
  {
   "cell_type": "code",
   "execution_count": 46,
   "metadata": {
    "collapsed": true
   },
   "outputs": [],
   "source": [
    "#Loss Function\n",
    "class Loss(object):\n",
    "    def __call__(self, y, p,lweights = None):\n",
    "        pass   \n",
    "\n",
    "        \n",
    "    def auc(self, y, p):\n",
    "        return accuracy_score(y,p)\n",
    "    \n",
    "    def gradient(self, y, p):\n",
    "        raise NotImplementedError()\n",
    "    \n",
    "\n",
    "class CrossEntropy(Loss):\n",
    "    \n",
    "    def __init__(self, reg=1e-3):\n",
    "        self.reg = reg\n",
    "        \n",
    "    def __call__(self, y, p,lweights = None):\n",
    "        return np.mean(-(y * np.log(p) + (1-y)*np.log(1-p)))    \n",
    "    \n",
    "    def auc(self, y, p):\n",
    "        #print( np.argmax(p, axis=1))\n",
    "        return accuracy_score(y.ravel(), np.argmax(p, axis=1))\n",
    "        \n",
    "   \n",
    "    def gradient(self, y, p):\n",
    "        return y - p \n",
    "    \n",
    "class CrossEntropyForSoftMax(Loss):\n",
    "    \n",
    "    def __init__(self, reg=1e-3):\n",
    "        self.reg = reg\n",
    "    \n",
    "    def __call__(self, y, p,lweights = None):\n",
    "        #select the right propbolity for loss  \n",
    "        correct_prob = -np.log(p[range(len(y)), y.ravel()-1])\n",
    "        dataloss = np.sum(correct_prob)/len(y)       \n",
    "        #regularization can be defined by 1/2 * Reg * np.sum(w*2)\n",
    "        regloss= 0\n",
    "    \n",
    "        if lweights is not None:\n",
    "            for weight in lweights:\n",
    "                regloss +=  0.5* self.reg* np.sum(np.square(weight))\n",
    "        \n",
    "        return dataloss+regloss   \n",
    "    \n",
    "    def auc(self, y, p):\n",
    "        #print( np.argmax(p, axis=1))\n",
    "        return accuracy_score(y.ravel(), np.argmax(p, axis=1)+1)\n",
    "        \n",
    "   \n",
    "    def gradient(self, y, p):\n",
    "        dscore = p\n",
    "        dscore[range(len(y)), y.ravel()-1] -= 1        \n",
    "        dscore /= len(y)\n",
    "        return dscore     \n",
    "    "
   ]
  },
  {
   "cell_type": "markdown",
   "metadata": {},
   "source": [
    "### Optimizer is a technique which produces gradients iteratively to update weights in order to minimize the cost function or converge to local minima. The traditional Gradient Desent(bacth) requires all the training sampled to be loaded into the memory to calculate the gradients. This is in a real world, seems to be not effective and sometimes not pratical too,  since usually the dataset is bigger in size. To address this issue, instead of loading the Data as a whole, load it in batches and calculuate gradient at batch levelwith same level of accuracy. This is named as SGD - Stochastic Gradient Desent"
   ]
  },
  {
   "cell_type": "code",
   "execution_count": 47,
   "metadata": {
    "collapsed": true
   },
   "outputs": [],
   "source": [
    "class SGD:\n",
    "    def __init__(self, learning_rate = 0.01, momentum=0):\n",
    "        self.learning_rate = learning_rate \n",
    "        self.momentum = momentum\n",
    "        self.w_updated = None\n",
    "    \n",
    "    def update(self, w, grad):\n",
    "        if self.w_updated is None:\n",
    "            self.w_updated = np.zeros(np.shape(w))        \n",
    "        \n",
    "        #use the momentum if any\n",
    "        self.w_updated = (self.momentum * self.w_updated) + (1-self.momentum) * grad        \n",
    "        return w - (self.learning_rate * grad) \n"
   ]
  },
  {
   "cell_type": "code",
   "execution_count": 48,
   "metadata": {
    "collapsed": true
   },
   "outputs": [],
   "source": [
    "from scipy.io import loadmat\n",
    "import matplotlib.pyplot as plt\n",
    "from sklearn.model_selection import train_test_split\n",
    "%matplotlib inline"
   ]
  },
  {
   "cell_type": "code",
   "execution_count": 49,
   "metadata": {},
   "outputs": [
    {
     "name": "stdout",
     "output_type": "stream",
     "text": [
      "(5000, 400)\n",
      "(5000, 1)\n"
     ]
    }
   ],
   "source": [
    "data = loadmat(\"data\\handwritten.mat\")\n",
    "print(data['X'].shape)\n",
    "print(data['y'].shape)"
   ]
  },
  {
   "cell_type": "code",
   "execution_count": 50,
   "metadata": {
    "collapsed": true
   },
   "outputs": [],
   "source": [
    "def show(img, title:None):\n",
    "    plt.imshow(img, cmap='gray')\n",
    "    if(title is not None): plt.title(title)"
   ]
  },
  {
   "cell_type": "code",
   "execution_count": 51,
   "metadata": {},
   "outputs": [
    {
     "data": {
      "image/png": "[encoded data removed]",
      "text/plain": [
       "<matplotlib.figure.Figure at 0x1fec835bc88>"
      ]
     },
     "metadata": {},
     "output_type": "display_data"
    }
   ],
   "source": [
    "#reshape by 20*20\n",
    "image = np.reshape(data['X'][4000],(20,20))\n",
    "image.shape\n",
    "show(image, data['y'][4000])"
   ]
  },
  {
   "cell_type": "code",
   "execution_count": 52,
   "metadata": {
    "collapsed": true
   },
   "outputs": [],
   "source": [
    "X = data['X']\n",
    "y =  data['y']"
   ]
  },
  {
   "cell_type": "code",
   "execution_count": 53,
   "metadata": {},
   "outputs": [
    {
     "name": "stdout",
     "output_type": "stream",
     "text": [
      "(4000, 400)\n",
      "(1000, 400)\n"
     ]
    }
   ],
   "source": [
    "X_train, X_valid, y_train, y_valid = train_test_split(\n",
    "            X,y, test_size=0.20, random_state=42)\n",
    "print(X_train.shape)\n",
    "print(X_valid.shape)"
   ]
  },
  {
   "cell_type": "code",
   "execution_count": 54,
   "metadata": {
    "collapsed": true
   },
   "outputs": [],
   "source": [
    "optimizer = SGD(learning_rate =  0.1,momentum=0.9)\n",
    "loss = CrossEntropyForSoftMax()"
   ]
  },
  {
   "cell_type": "code",
   "execution_count": 55,
   "metadata": {
    "collapsed": true
   },
   "outputs": [],
   "source": [
    "model = Sequential([    \n",
    "    Dense(100),\n",
    "    Activation(relu),    \n",
    "    Dense(10),\n",
    "    Activation(softmax)    \n",
    "],  optimizer, loss, X.shape[1])\n",
    "\n"
   ]
  },
  {
   "cell_type": "code",
   "execution_count": 56,
   "metadata": {},
   "outputs": [
    {
     "name": "stderr",
     "output_type": "stream",
     "text": [
      "  0% (4 of 10000) |                       | Elapsed Time: 0:00:00 ETA:  0:10:39"
     ]
    },
    {
     "name": "stdout",
     "output_type": "stream",
     "text": [
      "Epoch# 0 Training Loss:2.3403229024928573 Validation Loss: 2.3074124730034136 Training Accuracy:0.0945 Validation Accuracy:0.113\n"
     ]
    },
    {
     "name": "stderr",
     "output_type": "stream",
     "text": [
      " 10% (1005 of 10000) |##                  | Elapsed Time: 0:00:51 ETA:  0:07:38"
     ]
    },
    {
     "name": "stdout",
     "output_type": "stream",
     "text": [
      "Epoch# 1000 Training Loss:0.265501929056545 Validation Loss: 0.33293805906750074 Training Accuracy:0.94525 Validation Accuracy:0.913\n"
     ]
    },
    {
     "name": "stderr",
     "output_type": "stream",
     "text": [
      " 20% (2004 of 10000) |####                | Elapsed Time: 0:01:45 ETA:  0:06:34"
     ]
    },
    {
     "name": "stdout",
     "output_type": "stream",
     "text": [
      "Epoch# 2000 Training Loss:0.2077465428677755 Validation Loss: 0.307015676711618 Training Accuracy:0.97025 Validation Accuracy:0.924\n"
     ]
    },
    {
     "name": "stderr",
     "output_type": "stream",
     "text": [
      " 30% (3003 of 10000) |######              | Elapsed Time: 0:02:30 ETA:  0:05:13"
     ]
    },
    {
     "name": "stdout",
     "output_type": "stream",
     "text": [
      "Epoch# 3000 Training Loss:0.18037721176037894 Validation Loss: 0.2957282513857925 Training Accuracy:0.981 Validation Accuracy:0.927\n"
     ]
    },
    {
     "name": "stderr",
     "output_type": "stream",
     "text": [
      " 40% (4004 of 10000) |########            | Elapsed Time: 0:03:14 ETA:  0:04:23"
     ]
    },
    {
     "name": "stdout",
     "output_type": "stream",
     "text": [
      "Epoch# 4000 Training Loss:0.16830148054695862 Validation Loss: 0.29458238505657175 Training Accuracy:0.99025 Validation Accuracy:0.929\n"
     ]
    },
    {
     "name": "stderr",
     "output_type": "stream",
     "text": [
      " 50% (5004 of 10000) |##########          | Elapsed Time: 0:04:07 ETA:  0:04:10"
     ]
    },
    {
     "name": "stdout",
     "output_type": "stream",
     "text": [
      "Epoch# 5000 Training Loss:0.1654000325474913 Validation Loss: 0.29805013375393397 Training Accuracy:0.99575 Validation Accuracy:0.934\n"
     ]
    },
    {
     "name": "stderr",
     "output_type": "stream",
     "text": [
      " 60% (6005 of 10000) |############        | Elapsed Time: 0:04:59 ETA:  0:03:22"
     ]
    },
    {
     "name": "stdout",
     "output_type": "stream",
     "text": [
      "Epoch# 6000 Training Loss:0.16722798929517077 Validation Loss: 0.30464483799744313 Training Accuracy:0.99825 Validation Accuracy:0.934\n"
     ]
    },
    {
     "name": "stderr",
     "output_type": "stream",
     "text": [
      " 70% (7004 of 10000) |##############      | Elapsed Time: 0:05:47 ETA:  0:02:24"
     ]
    },
    {
     "name": "stdout",
     "output_type": "stream",
     "text": [
      "Epoch# 7000 Training Loss:0.17126566155588857 Validation Loss: 0.31207865133132734 Training Accuracy:0.9995 Validation Accuracy:0.934\n"
     ]
    },
    {
     "name": "stderr",
     "output_type": "stream",
     "text": [
      " 80% (8003 of 10000) |################    | Elapsed Time: 0:06:37 ETA:  0:01:39"
     ]
    },
    {
     "name": "stdout",
     "output_type": "stream",
     "text": [
      "Epoch# 8000 Training Loss:0.176136726107794 Validation Loss: 0.31906940997525635 Training Accuracy:0.99975 Validation Accuracy:0.935\n"
     ]
    },
    {
     "name": "stderr",
     "output_type": "stream",
     "text": [
      " 90% (9004 of 10000) |##################  | Elapsed Time: 0:07:25 ETA:  0:00:47"
     ]
    },
    {
     "name": "stdout",
     "output_type": "stream",
     "text": [
      "Epoch# 9000 Training Loss:0.18116820783995924 Validation Loss: 0.3254068859103843 Training Accuracy:1.0 Validation Accuracy:0.935\n"
     ]
    },
    {
     "name": "stderr",
     "output_type": "stream",
     "text": [
      "100% (10000 of 10000) |###################| Elapsed Time: 0:08:14 Time: 0:08:14\n"
     ]
    }
   ],
   "source": [
    "model.fit(X_train,y_train,X_valid,y_valid,epochs= 10000,batchsize= 5000)"
   ]
  },
  {
   "cell_type": "code",
   "execution_count": 57,
   "metadata": {},
   "outputs": [
    {
     "name": "stdout",
     "output_type": "stream",
     "text": [
      "+---------------+\n",
      "| Model Summary |\n",
      "+---------------+\n",
      "Input Shape: 400\n",
      "+------------+-------------+--------------+------------+\n",
      "| Layer Name | Input Shape | Output Shape | Shape      |\n",
      "+------------+-------------+--------------+------------+\n",
      "| Dense      | 400         | 100          | (400, 100) |\n",
      "| relu       | 100         | 100          | (100, 100) |\n",
      "| Dense      | 100         | 10           | (100, 10)  |\n",
      "| softmax    | 10          | 10           | (10, 10)   |\n",
      "+------------+-------------+--------------+------------+\n"
     ]
    }
   ],
   "source": [
    "model.summary()"
   ]
  },
  {
   "cell_type": "code",
   "execution_count": null,
   "metadata": {
    "collapsed": true
   },
   "outputs": [],
   "source": []
  }
 ],
 "metadata": {
  "kernelspec": {
   "display_name": "Python 3",
   "language": "python",
   "name": "python3"
  },
  "language_info": {
   "codemirror_mode": {
    "name": "ipython",
    "version": 3
   },
   "file_extension": ".py",
   "mimetype": "text/x-python",
   "name": "python",
   "nbconvert_exporter": "python",
   "pygments_lexer": "ipython3",
   "version": "3.6.1"
  }
 },
 "nbformat": 4,
 "nbformat_minor": 2
}
