{
 "cells": [
  {
   "cell_type": "markdown",
   "metadata": {
    "collapsed": true
   },
   "source": [
    "## In this exercise, we will use the layer model which we built last week. Here we will explore different optimizer functions . In the previous section, we implemented the SGD with momentum. It does this by adding a fraction of the update vector of the past time step to the current update vector which accelerates the parameter updates for faster convergence "
   ]
  },
  {
   "cell_type": "code",
   "execution_count": 4,
   "metadata": {
    "collapsed": true
   },
   "outputs": [],
   "source": [
    "import numpy as np"
   ]
  },
  {
   "cell_type": "markdown",
   "metadata": {},
   "source": [
    "### Adagrad\n",
    "\n",
    "A adaptive learning rate which individually adapts the learning rates of all model parameters by scaling them inversaly proportional to the square root of sum of all historical value of the gradient. It adapts to lower learning rates(updates) to the frequently occuring features and larger learning rates/updates to the infrequent feature\n",
    "\n",
    "http://cs231n.github.io/neural-networks-3/"
   ]
  },
  {
   "cell_type": "code",
   "execution_count": 5,
   "metadata": {},
   "outputs": [],
   "source": [
    "class Adagrad:\n",
    "    def __init__(self, learning_rate = 0.01, eps = 1e-8):\n",
    "        self.learning_rate = learning_rate \n",
    "        #sum of squares of gradient\n",
    "        self.ssg = None\n",
    "        #smoothing term avoids division by zero\n",
    "        self.eps = eps       \n",
    "    \n",
    "    def update(self, w, grad):\n",
    "        if self.ssg is None:\n",
    "            self.ssg = np.zeros(np.shape(w)) \n",
    "            \n",
    "        # Add the square of the gradient of the loss function at w\n",
    "        self.ssg += np.power(grad, 2)\n",
    "        \n",
    "        # Adaptive gradient with higher learning rate for infrequent data  \n",
    "        return (w - (self.learning_rate * grad)) / np.sqrt(self.ssg+ self.eps)"
   ]
  },
  {
   "cell_type": "code",
   "execution_count": 3,
   "metadata": {
    "collapsed": true
   },
   "outputs": [],
   "source": [
    "#to be continued"
   ]
  },
  {
   "cell_type": "code",
   "execution_count": null,
   "metadata": {
    "collapsed": true
   },
   "outputs": [],
   "source": []
  }
 ],
 "metadata": {
  "kernelspec": {
   "display_name": "Python 3",
   "language": "python",
   "name": "python3"
  },
  "language_info": {
   "codemirror_mode": {
    "name": "ipython",
    "version": 3
   },
   "file_extension": ".py",
   "mimetype": "text/x-python",
   "name": "python",
   "nbconvert_exporter": "python",
   "pygments_lexer": "ipython3",
   "version": "3.6.1"
  }
 },
 "nbformat": 4,
 "nbformat_minor": 2
}
